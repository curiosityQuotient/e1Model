{
 "cells": [
  {
   "cell_type": "code",
   "execution_count": 1,
   "id": "db24f231",
   "metadata": {
    "_cell_guid": "b1076dfc-b9ad-4769-8c92-a6c4dae69d19",
    "_uuid": "8f2839f25d086af736a60e9eeb907d3b93b6e0e5",
    "execution": {
     "iopub.execute_input": "2023-03-02T14:48:00.866437Z",
     "iopub.status.busy": "2023-03-02T14:48:00.865785Z",
     "iopub.status.idle": "2023-03-02T14:48:00.888316Z",
     "shell.execute_reply": "2023-03-02T14:48:00.887119Z"
    },
    "papermill": {
     "duration": 0.034964,
     "end_time": "2023-03-02T14:48:00.891517",
     "exception": false,
     "start_time": "2023-03-02T14:48:00.856553",
     "status": "completed"
    },
    "tags": []
   },
   "outputs": [
    {
     "name": "stdout",
     "output_type": "stream",
     "text": [
      "/kaggle/input/efl1results/E1-2017-2018.csv\n",
      "/kaggle/input/efl1results/E1-2016-2017.csv\n",
      "/kaggle/input/efl1results/E1-2015-2016.csv\n",
      "/kaggle/input/efl1results/E1-2018-2019.csv\n",
      "/kaggle/input/efl1results/E1-2019-2020.csv\n"
     ]
    }
   ],
   "source": [
    "# This Python 3 environment comes with many helpful analytics libraries installed\n",
    "# It is defined by the kaggle/python Docker image: https://github.com/kaggle/docker-python\n",
    "# For example, here's several helpful packages to load\n",
    "\n",
    "# load packages\n",
    "import numpy as np # linear algebra\n",
    "import pandas as pd # data processing, CSV file I/O (e.g. pd.read_csv)\n",
    "import matplotlib.pyplot as plt\n",
    "# Input data files are available in the read-only \"../input/\" directory\n",
    "# For example, running this (by clicking run or pressing Shift+Enter) will list all files under the input directory\n",
    "\n",
    "import os\n",
    "for dirname, _, filenames in os.walk('/kaggle/input'):\n",
    "    for filename in filenames:\n",
    "        print(os.path.join(dirname, filename))\n",
    "\n",
    "# You can write up to 20GB to the current directory (/kaggle/working/) that gets preserved as output when you create a version using \"Save & Run All\" \n",
    "# You can also write temporary files to /kaggle/temp/, but they won't be saved outside of the current session"
   ]
  },
  {
   "cell_type": "code",
   "execution_count": 2,
   "id": "a5d59f04",
   "metadata": {
    "execution": {
     "iopub.execute_input": "2023-03-02T14:48:00.906177Z",
     "iopub.status.busy": "2023-03-02T14:48:00.905770Z",
     "iopub.status.idle": "2023-03-02T14:48:01.011073Z",
     "shell.execute_reply": "2023-03-02T14:48:01.009471Z"
    },
    "papermill": {
     "duration": 0.115126,
     "end_time": "2023-03-02T14:48:01.013560",
     "exception": false,
     "start_time": "2023-03-02T14:48:00.898434",
     "status": "completed"
    },
    "tags": []
   },
   "outputs": [
    {
     "name": "stdout",
     "output_type": "stream",
     "text": [
      "Data loaded\n"
     ]
    }
   ],
   "source": [
    "# %% load historical data\n",
    "xls1 = pd.read_csv(dirname+'/E1-2015-2016.csv')\n",
    "xls2 = pd.read_csv(dirname+'/E1-2016-2017.csv')\n",
    "xls3 = pd.read_csv(dirname+'/E1-2017-2018.csv')\n",
    "xls4 = pd.read_csv(dirname+'/E1-2019-2020.csv')\n",
    "\n",
    "FullDF = pd.concat([xls1, xls2, xls3, xls4], ignore_index=True)\n",
    "print('Data loaded')"
   ]
  },
  {
   "cell_type": "code",
   "execution_count": 3,
   "id": "4e82b538",
   "metadata": {
    "execution": {
     "iopub.execute_input": "2023-03-02T14:48:01.027280Z",
     "iopub.status.busy": "2023-03-02T14:48:01.026891Z",
     "iopub.status.idle": "2023-03-02T14:48:01.064598Z",
     "shell.execute_reply": "2023-03-02T14:48:01.063581Z"
    },
    "papermill": {
     "duration": 0.047836,
     "end_time": "2023-03-02T14:48:01.067313",
     "exception": false,
     "start_time": "2023-03-02T14:48:01.019477",
     "status": "completed"
    },
    "tags": []
   },
   "outputs": [],
   "source": [
    "# %% Drop columns that are not needed\n",
    "toDrop = ['Div',\n",
    "'Date',\n",
    "'HTHG',\n",
    "'HTAG',\n",
    "'HTR',\n",
    "'Referee',\n",
    "'BWH',\n",
    "'BWD',\n",
    "'BWA',\n",
    "'IWH',\n",
    "'IWD',\n",
    "'IWA',\n",
    "'LBH',\n",
    "'LBD',\n",
    "'LBA',\n",
    "'WHH',\n",
    "'WHD',\n",
    "'WHA',\n",
    "'VCH',\n",
    "'VCD',\n",
    "'VCA',\n",
    "'Bb1X2',\n",
    "'BbMxH',\n",
    "'BbAvH',\n",
    "'BbMxD',\n",
    "'BbAvD',\n",
    "'BbMxA',\n",
    "'BbAvA',\n",
    "'BbOU',\n",
    "'BbMx>2.5',\n",
    "'BbAv>2.5',\n",
    "'BbMx<2.5',\n",
    "'BbAv<2.5',\n",
    "'BbAH',\n",
    "'BbAHh',\n",
    "'BbMxAHH',\n",
    "'BbAvAHH',\n",
    "'BbMxAHA',\n",
    "'BbAvAHA',\n",
    "'PSCH',\n",
    "'PSCD',\n",
    "'PSCA',\n",
    "'Time',\n",
    "'MaxH',\n",
    "'MaxD',\n",
    "'MaxA',\n",
    "'AvgH',\n",
    "'AvgD',\n",
    "'AvgA',\n",
    "'B365>2.5',\n",
    "'B365<2.5',\n",
    "'P>2.5',\n",
    "'P<2.5',\n",
    "'Max>2.5',\n",
    "'Max<2.5',\n",
    "'Avg>2.5',\n",
    "'Avg<2.5',\n",
    "'AHh',\n",
    "'B365AHH',\n",
    "'B365AHA',\n",
    "'PAHH',\n",
    "'PAHA',\n",
    "'MaxAHH',\n",
    "'MaxAHA',\n",
    "'AvgAHH',\n",
    "'AvgAHA',\n",
    "'B365CH',\n",
    "'B365CD',\n",
    "'B365CA',\n",
    "'BWCH',\n",
    "'BWCD',\n",
    "'BWCA',\n",
    "'IWCH',\n",
    "'IWCD',\n",
    "'IWCA',\n",
    "'WHCH',\n",
    "'WHCD',\n",
    "'WHCA',\n",
    "'VCCH',\n",
    "'VCCD',\n",
    "'VCCA',\n",
    "'MaxCH',\n",
    "'MaxCD',\n",
    "'MaxCA',\n",
    "'AvgCH',\n",
    "'AvgCD',\n",
    "'AvgCA',\n",
    "'B365C>2.5',\n",
    "'B365C<2.5',\n",
    "'PC>2.5',\n",
    "'PC<2.5',\n",
    "'MaxC>2.5',\n",
    "'MaxC<2.5',\n",
    "'AvgC>2.5',\n",
    "'AvgC<2.5',\n",
    "'AHCh',\n",
    "'B365CAHH',\n",
    "'B365CAHA',\n",
    "'PCAHH',\n",
    "'PCAHA',\n",
    "'MaxCAHH',\n",
    "'MaxCAHA',\n",
    "'AvgCAHH',\n",
    "'AvgCAHA']\n",
    "\n",
    "FullDF = FullDF.drop(toDrop, axis=1)\n",
    "FullDF = FullDF.dropna()\n",
    "\n",
    "# %%create home/away win features\n",
    "FullDF['Hwin'] = FullDF['FTR']=='H'\n",
    "FullDF['Hwin'] = FullDF['Hwin'].astype(int)\n",
    "FullDF['Awin'] = FullDF['FTR'] == 'A'\n",
    "FullDF['Awin'] = FullDF['Awin'].astype(int)\n",
    "\n",
    "# convert odds to probabilities\n",
    "FullDF['Hp'] = 1/FullDF['PSH']\n",
    "FullDF['Dp'] = 1/FullDF['PSD']\n",
    "FullDF['Ap'] = 1/FullDF['PSA']\n",
    "\n",
    "book_probs = FullDF[['Hp', 'Dp', 'Ap']]\n",
    "# book_probs['Hp'] = 1/FullDF['PSH']\n",
    "# book_probs['Dp'] = 1/FullDF['PSD']\n",
    "# book_probs['Ap'] = 1/FullDF['PSA']\n",
    "\n",
    "# TODO: should add odds normalisation here\n",
    "# drop odds\n",
    "FullDF = FullDF.drop(['B365H', 'B365D', 'B365A', 'PSH', 'PSD', 'PSA'], axis=1)"
   ]
  },
  {
   "cell_type": "code",
   "execution_count": 4,
   "id": "b5f84763",
   "metadata": {
    "execution": {
     "iopub.execute_input": "2023-03-02T14:48:01.081125Z",
     "iopub.status.busy": "2023-03-02T14:48:01.080748Z",
     "iopub.status.idle": "2023-03-02T14:48:01.716006Z",
     "shell.execute_reply": "2023-03-02T14:48:01.714789Z"
    },
    "papermill": {
     "duration": 0.645472,
     "end_time": "2023-03-02T14:48:01.718803",
     "exception": false,
     "start_time": "2023-03-02T14:48:01.073331",
     "status": "completed"
    },
    "tags": []
   },
   "outputs": [
    {
     "name": "stdout",
     "output_type": "stream",
     "text": [
      "Rolling averages calculated...\n"
     ]
    },
    {
     "data": {
      "text/html": [
       "<div>\n",
       "<style scoped>\n",
       "    .dataframe tbody tr th:only-of-type {\n",
       "        vertical-align: middle;\n",
       "    }\n",
       "\n",
       "    .dataframe tbody tr th {\n",
       "        vertical-align: top;\n",
       "    }\n",
       "\n",
       "    .dataframe thead th {\n",
       "        text-align: right;\n",
       "    }\n",
       "</style>\n",
       "<table border=\"1\" class=\"dataframe\">\n",
       "  <thead>\n",
       "    <tr style=\"text-align: right;\">\n",
       "      <th></th>\n",
       "      <th>HomeTeam</th>\n",
       "      <th>AwayTeam</th>\n",
       "      <th>FTHG</th>\n",
       "      <th>FTAG</th>\n",
       "      <th>HS</th>\n",
       "      <th>AS</th>\n",
       "      <th>HST</th>\n",
       "      <th>AST</th>\n",
       "      <th>HF</th>\n",
       "      <th>AF</th>\n",
       "      <th>...</th>\n",
       "      <th>GDA</th>\n",
       "      <th>SDA</th>\n",
       "      <th>STDA</th>\n",
       "      <th>Hp</th>\n",
       "      <th>Dp</th>\n",
       "      <th>Ap</th>\n",
       "      <th>GD</th>\n",
       "      <th>SD</th>\n",
       "      <th>STD</th>\n",
       "      <th>WD</th>\n",
       "    </tr>\n",
       "  </thead>\n",
       "  <tbody>\n",
       "    <tr>\n",
       "      <th>2203</th>\n",
       "      <td>Nott'm Forest</td>\n",
       "      <td>Stoke</td>\n",
       "      <td>1.133333</td>\n",
       "      <td>1.133333</td>\n",
       "      <td>14.000000</td>\n",
       "      <td>9.666667</td>\n",
       "      <td>3.533333</td>\n",
       "      <td>3.266667</td>\n",
       "      <td>11.933333</td>\n",
       "      <td>12.333333</td>\n",
       "      <td>...</td>\n",
       "      <td>-0.800000</td>\n",
       "      <td>-2.266667</td>\n",
       "      <td>-1.533333</td>\n",
       "      <td>0.456621</td>\n",
       "      <td>0.301205</td>\n",
       "      <td>0.282486</td>\n",
       "      <td>0.733333</td>\n",
       "      <td>5.800000</td>\n",
       "      <td>1.933333</td>\n",
       "      <td>0.200000</td>\n",
       "    </tr>\n",
       "    <tr>\n",
       "      <th>2204</th>\n",
       "      <td>Reading</td>\n",
       "      <td>Swansea</td>\n",
       "      <td>1.066667</td>\n",
       "      <td>1.466667</td>\n",
       "      <td>11.666667</td>\n",
       "      <td>11.533333</td>\n",
       "      <td>3.533333</td>\n",
       "      <td>3.400000</td>\n",
       "      <td>11.400000</td>\n",
       "      <td>10.733333</td>\n",
       "      <td>...</td>\n",
       "      <td>-0.200000</td>\n",
       "      <td>-3.733333</td>\n",
       "      <td>-0.666667</td>\n",
       "      <td>0.258398</td>\n",
       "      <td>0.269542</td>\n",
       "      <td>0.510204</td>\n",
       "      <td>0.066667</td>\n",
       "      <td>0.400000</td>\n",
       "      <td>-0.800000</td>\n",
       "      <td>0.066667</td>\n",
       "    </tr>\n",
       "    <tr>\n",
       "      <th>2205</th>\n",
       "      <td>Sheffield Weds</td>\n",
       "      <td>Middlesbrough</td>\n",
       "      <td>0.733333</td>\n",
       "      <td>1.333333</td>\n",
       "      <td>14.800000</td>\n",
       "      <td>10.866667</td>\n",
       "      <td>3.866667</td>\n",
       "      <td>3.466667</td>\n",
       "      <td>13.600000</td>\n",
       "      <td>14.066667</td>\n",
       "      <td>...</td>\n",
       "      <td>0.000000</td>\n",
       "      <td>-1.733333</td>\n",
       "      <td>-1.200000</td>\n",
       "      <td>0.421941</td>\n",
       "      <td>0.308642</td>\n",
       "      <td>0.308642</td>\n",
       "      <td>-0.933333</td>\n",
       "      <td>6.666667</td>\n",
       "      <td>1.600000</td>\n",
       "      <td>-0.200000</td>\n",
       "    </tr>\n",
       "    <tr>\n",
       "      <th>2206</th>\n",
       "      <td>West Brom</td>\n",
       "      <td>QPR</td>\n",
       "      <td>1.666667</td>\n",
       "      <td>0.933333</td>\n",
       "      <td>15.400000</td>\n",
       "      <td>10.133333</td>\n",
       "      <td>5.666667</td>\n",
       "      <td>3.466667</td>\n",
       "      <td>12.200000</td>\n",
       "      <td>13.666667</td>\n",
       "      <td>...</td>\n",
       "      <td>-0.400000</td>\n",
       "      <td>-2.666667</td>\n",
       "      <td>-0.666667</td>\n",
       "      <td>0.806452</td>\n",
       "      <td>0.160514</td>\n",
       "      <td>0.078493</td>\n",
       "      <td>1.200000</td>\n",
       "      <td>8.533333</td>\n",
       "      <td>3.800000</td>\n",
       "      <td>0.266667</td>\n",
       "    </tr>\n",
       "    <tr>\n",
       "      <th>2207</th>\n",
       "      <td>Wigan</td>\n",
       "      <td>Fulham</td>\n",
       "      <td>1.600000</td>\n",
       "      <td>1.000000</td>\n",
       "      <td>12.333333</td>\n",
       "      <td>11.800000</td>\n",
       "      <td>4.533333</td>\n",
       "      <td>3.800000</td>\n",
       "      <td>12.266667</td>\n",
       "      <td>12.266667</td>\n",
       "      <td>...</td>\n",
       "      <td>0.066667</td>\n",
       "      <td>-0.400000</td>\n",
       "      <td>-0.400000</td>\n",
       "      <td>0.389105</td>\n",
       "      <td>0.268817</td>\n",
       "      <td>0.383142</td>\n",
       "      <td>0.466667</td>\n",
       "      <td>3.866667</td>\n",
       "      <td>2.000000</td>\n",
       "      <td>0.000000</td>\n",
       "    </tr>\n",
       "  </tbody>\n",
       "</table>\n",
       "<p>5 rows × 31 columns</p>\n",
       "</div>"
      ],
      "text/plain": [
       "            HomeTeam       AwayTeam      FTHG      FTAG         HS         AS  \\\n",
       "2203   Nott'm Forest          Stoke  1.133333  1.133333  14.000000   9.666667   \n",
       "2204         Reading        Swansea  1.066667  1.466667  11.666667  11.533333   \n",
       "2205  Sheffield Weds  Middlesbrough  0.733333  1.333333  14.800000  10.866667   \n",
       "2206       West Brom            QPR  1.666667  0.933333  15.400000  10.133333   \n",
       "2207           Wigan         Fulham  1.600000  1.000000  12.333333  11.800000   \n",
       "\n",
       "           HST       AST         HF         AF  ...       GDA       SDA  \\\n",
       "2203  3.533333  3.266667  11.933333  12.333333  ... -0.800000 -2.266667   \n",
       "2204  3.533333  3.400000  11.400000  10.733333  ... -0.200000 -3.733333   \n",
       "2205  3.866667  3.466667  13.600000  14.066667  ...  0.000000 -1.733333   \n",
       "2206  5.666667  3.466667  12.200000  13.666667  ... -0.400000 -2.666667   \n",
       "2207  4.533333  3.800000  12.266667  12.266667  ...  0.066667 -0.400000   \n",
       "\n",
       "          STDA        Hp        Dp        Ap        GD        SD       STD  \\\n",
       "2203 -1.533333  0.456621  0.301205  0.282486  0.733333  5.800000  1.933333   \n",
       "2204 -0.666667  0.258398  0.269542  0.510204  0.066667  0.400000 -0.800000   \n",
       "2205 -1.200000  0.421941  0.308642  0.308642 -0.933333  6.666667  1.600000   \n",
       "2206 -0.666667  0.806452  0.160514  0.078493  1.200000  8.533333  3.800000   \n",
       "2207 -0.400000  0.389105  0.268817  0.383142  0.466667  3.866667  2.000000   \n",
       "\n",
       "            WD  \n",
       "2203  0.200000  \n",
       "2204  0.066667  \n",
       "2205 -0.200000  \n",
       "2206  0.266667  \n",
       "2207  0.000000  \n",
       "\n",
       "[5 rows x 31 columns]"
      ]
     },
     "execution_count": 4,
     "metadata": {},
     "output_type": "execute_result"
    }
   ],
   "source": [
    "# features net goals, shots\n",
    "FullDF['GDH'] = FullDF['FTHG'] - FullDF['FTAG']\n",
    "FullDF['GDA'] = FullDF['FTAG'] - FullDF['FTHG']\n",
    "FullDF['SDH'] = FullDF['HS'] - FullDF['AS']\n",
    "FullDF['SDA'] = FullDF['AS'] - FullDF['HS']\n",
    "FullDF['STDH'] = FullDF['HST'] - FullDF['AST']\n",
    "FullDF['STDA'] = FullDF['AST'] - FullDF['HST']\n",
    "\n",
    "rllAvgDF = FullDF[['HomeTeam', 'AwayTeam']].copy()\n",
    "# decided to drop draw for averaging\n",
    "# forAvg = ['FTHG', 'FTAG', 'HS', 'AS', 'HST', 'AST', 'HF', 'AF', 'HC', 'AC',\n",
    "# 'HY', 'AY', 'HR', 'AR', 'B365Hp', 'B365Ap', 'PSHp', 'PSAp',]\n",
    "forAvg = ['FTHG', 'FTAG', 'HS', 'AS', 'HST', 'AST', 'HF', 'AF', 'HC', 'AC',\n",
    " 'HY', 'AY', 'HR', 'AR']\n",
    "rllAvgDF[forAvg] = 0\n",
    "\n",
    "teamList = rllAvgDF['HomeTeam'].unique()\n",
    "\n",
    "# homeFeats = ['Hwin', 'FTHG', 'HS', 'HST', 'HF',  'HC', 'HY', 'HR', 'B365Hp', \n",
    "#              'PSHp', 'GDH', 'SDH','STDH']\n",
    "# awayFeats = ['Awin', 'FTAG', 'AS', 'AST', 'AF', 'AC', 'AY', 'AR',  'B365Ap', \n",
    "#              'PSAp', 'GDA', 'SDA', 'STDA']\n",
    "homeFeats = ['Hwin', 'FTHG', 'HS', 'HST', 'HF',  'HC', 'HY', 'HR', 'GDH', 'SDH','STDH']\n",
    "awayFeats = ['Awin', 'FTAG', 'AS', 'AST', 'AF', 'AC', 'AY', 'AR', 'GDA', 'SDA', 'STDA']\n",
    "\n",
    "winLen = 15\n",
    "for team in teamList:\n",
    "    homeSlc = FullDF[FullDF['HomeTeam']==team]\n",
    "    rllAvgDF.loc[rllAvgDF['HomeTeam']==team, homeFeats] = \\\n",
    "        homeSlc[homeFeats].shift(1).rolling(winLen, min_periods=1).mean()\n",
    "    awaySlc = FullDF[FullDF['AwayTeam']==team]\n",
    "    rllAvgDF.loc[rllAvgDF['AwayTeam']==team, awayFeats] = \\\n",
    "        awaySlc[awayFeats].shift(1).rolling(winLen, min_periods=1).mean()\n",
    "\n",
    "print('Rolling averages calculated...')\n",
    "\n",
    "rllAvgDF[['Hp', 'Dp', 'Ap']] = FullDF[['Hp', 'Dp', 'Ap']]\n",
    "\n",
    "# features predicted goal difference\n",
    "rllAvgDF['GD'] = rllAvgDF['GDH'] - rllAvgDF['GDA']\n",
    "rllAvgDF['SD'] = rllAvgDF['SDH'] - rllAvgDF['SDA']\n",
    "rllAvgDF['STD'] = rllAvgDF['STDH'] - rllAvgDF['STDA']\n",
    "rllAvgDF['WD'] = rllAvgDF['Hwin'] - rllAvgDF['Awin']\n",
    "rllAvgDF.tail()"
   ]
  },
  {
   "cell_type": "code",
   "execution_count": 5,
   "id": "38f42e04",
   "metadata": {
    "execution": {
     "iopub.execute_input": "2023-03-02T14:48:01.733705Z",
     "iopub.status.busy": "2023-03-02T14:48:01.733297Z",
     "iopub.status.idle": "2023-03-02T14:48:01.743429Z",
     "shell.execute_reply": "2023-03-02T14:48:01.742481Z"
    },
    "papermill": {
     "duration": 0.020475,
     "end_time": "2023-03-02T14:48:01.745976",
     "exception": false,
     "start_time": "2023-03-02T14:48:01.725501",
     "status": "completed"
    },
    "tags": []
   },
   "outputs": [],
   "source": [
    "# Test train split\n",
    "# Take first 70% for training\n",
    "validDF = rllAvgDF.iloc[24:, :]\n",
    "validDF = validDF.drop(['HomeTeam', 'AwayTeam'], axis=1)\n",
    "validDF = validDF.dropna()\n",
    "\n",
    "Ntrain = round(0.7*validDF.shape[0])\n",
    "Ntest = validDF.shape[0] - Ntrain\n",
    "\n",
    "X_train = validDF.head(Ntrain)\n",
    "X_test = validDF.tail(Ntest)\n"
   ]
  },
  {
   "cell_type": "code",
   "execution_count": 6,
   "id": "c2e5de73",
   "metadata": {
    "execution": {
     "iopub.execute_input": "2023-03-02T14:48:01.760687Z",
     "iopub.status.busy": "2023-03-02T14:48:01.760301Z",
     "iopub.status.idle": "2023-03-02T14:48:02.177133Z",
     "shell.execute_reply": "2023-03-02T14:48:02.175921Z"
    },
    "papermill": {
     "duration": 0.427617,
     "end_time": "2023-03-02T14:48:02.180091",
     "exception": false,
     "start_time": "2023-03-02T14:48:01.752474",
     "status": "completed"
    },
    "tags": []
   },
   "outputs": [
    {
     "data": {
      "text/plain": [
       "<BarContainer object of 29 artists>"
      ]
     },
     "execution_count": 6,
     "metadata": {},
     "output_type": "execute_result"
    },
    {
     "data": {
      "image/png": "[encoded data removed]",
      "text/plain": [
       "<Figure size 1080x216 with 1 Axes>"
      ]
     },
     "metadata": {
      "needs_background": "light"
     },
     "output_type": "display_data"
    }
   ],
   "source": [
    "# %% Home goals model\n",
    "HG = FullDF.iloc[24:, 2]\n",
    "HG_train = HG.head(Ntrain)\n",
    "HG_test = HG.tail(Ntest)\n",
    "\n",
    "corrResults = X_train.corrwith(HG_train)\n",
    "plt.subplots(figsize=(15, 3))\n",
    "plt.bar(X_train.columns, corrResults)"
   ]
  },
  {
   "cell_type": "code",
   "execution_count": 7,
   "id": "fb1bb6e5",
   "metadata": {
    "execution": {
     "iopub.execute_input": "2023-03-02T14:48:02.195775Z",
     "iopub.status.busy": "2023-03-02T14:48:02.195345Z",
     "iopub.status.idle": "2023-03-02T14:48:04.384598Z",
     "shell.execute_reply": "2023-03-02T14:48:04.382919Z"
    },
    "papermill": {
     "duration": 2.202708,
     "end_time": "2023-03-02T14:48:04.389553",
     "exception": false,
     "start_time": "2023-03-02T14:48:02.186845",
     "status": "completed"
    },
    "tags": []
   },
   "outputs": [
    {
     "name": "stdout",
     "output_type": "stream",
     "text": [
      "Gradient boosted regressor\n",
      "Training MSE:  1.333215498247148\n",
      "Test MSE:  1.485661951863681\n"
     ]
    },
    {
     "data": {
      "image/png": "[encoded data removed]",
      "text/plain": [
       "<Figure size 432x432 with 1 Axes>"
      ]
     },
     "metadata": {
      "needs_background": "light"
     },
     "output_type": "display_data"
    },
    {
     "name": "stdout",
     "output_type": "stream",
     "text": [
      "alpha parameter = 0.001\n",
      "LASSO, Ridge and linear regression\n",
      "Training MSE:  1.378318389756367 1.3752990593322845\n",
      "Test MSE:  1.4748132522357091 1.4748132522357091\n",
      "alpha parameter = 0.01\n",
      "LASSO, Ridge and linear regression\n",
      "Training MSE:  1.4003739872502396 1.3755021421349052\n",
      "Test MSE:  1.4716339147427209 1.4716339147427209\n",
      "alpha parameter = 0.1\n",
      "LASSO, Ridge and linear regression\n",
      "Training MSE:  1.4118946537432568 1.3756445722822737\n",
      "Test MSE:  1.4703767067639115 1.4703767067639115\n",
      "alpha parameter = 1\n",
      "LASSO, Ridge and linear regression\n",
      "Training MSE:  1.4118946537432568 1.377349611537163\n",
      "Test MSE:  1.4685071759300732 1.4685071759300732\n",
      "alpha parameter = 10\n",
      "LASSO, Ridge and linear regression\n",
      "Training MSE:  1.4118946537432568 1.3824860688973144\n",
      "Test MSE:  1.47427238249918 1.47427238249918\n",
      "alpha parameter = 100\n",
      "LASSO, Ridge and linear regression\n",
      "Training MSE:  1.4118946537432568 1.3918568712706187\n",
      "Test MSE:  1.4859534283590417 1.4859534283590417\n",
      "alpha parameter = 1000.0\n",
      "LASSO, Ridge and linear regression\n",
      "Training MSE:  1.4118946537432568 1.4006855570927108\n",
      "Test MSE:  1.4933542494989474 1.4933542494989474\n",
      "Test MSE:  1.4843574956732002\n"
     ]
    },
    {
     "data": {
      "text/plain": [
       "Lasso(alpha=0.001)"
      ]
     },
     "execution_count": 7,
     "metadata": {},
     "output_type": "execute_result"
    }
   ],
   "source": [
    "\n",
    "from sklearn.ensemble import GradientBoostingRegressor\n",
    "from sklearn.metrics import mean_squared_error as MSE\n",
    "# %%\n",
    "HG_GBR_mdl = GradientBoostingRegressor(n_estimators=20, learning_rate=0.08,\n",
    "                                  max_depth=2, random_state=0)\n",
    "HG_GBR_mdl.fit(X_train, HG_train)\n",
    "\n",
    "print('Gradient boosted regressor')\n",
    "print('Training MSE: ', MSE(HG_GBR_mdl.predict(X_train), HG_train))\n",
    "print('Test MSE: ', MSE(HG_GBR_mdl.predict(X_test), HG_test))\n",
    "\n",
    "# %% Visulise training loss\n",
    "params = {\"n_estimators\": 20}\n",
    "test_score = np.zeros((params[\"n_estimators\"],), dtype=np.float64)\n",
    "for i, HG_pred in enumerate(HG_GBR_mdl.staged_predict(X_test)):\n",
    "    test_score[i] = HG_GBR_mdl.loss_(HG_test, HG_pred)\n",
    "\n",
    "fig = plt.figure(figsize=(6, 6))\n",
    "plt.subplot(1, 1, 1)\n",
    "plt.title(\"Deviance\")\n",
    "plt.plot(\n",
    "    np.arange(params[\"n_estimators\"]) + 1,\n",
    "    HG_GBR_mdl.train_score_,\n",
    "    \"b-\",\n",
    "    label=\"Training Set Deviance\",\n",
    ")\n",
    "plt.plot(\n",
    "    np.arange(params[\"n_estimators\"]) + 1, test_score, \"r-\", label=\"Test Set Deviance\"\n",
    ")\n",
    "plt.legend(loc=\"upper right\")\n",
    "plt.xlabel(\"Boosting Iterations\")\n",
    "plt.ylabel(\"Deviance\")\n",
    "fig.tight_layout()\n",
    "plt.show()\n",
    "\n",
    "# %% LASSO regression\n",
    "from sklearn import linear_model\n",
    "from sklearn.preprocessing import StandardScaler\n",
    "scl = StandardScaler()\n",
    "alpGrid = [1e-3, 1e-2, 1e-1, 1, 10, 100, 1e3]\n",
    "tstLossLASSO = []\n",
    "tstLossRidge = []\n",
    "#X_train = scl.fit_transform(X_train)\n",
    "#X_test = scl.fit_transform(X_test)\n",
    "\n",
    "for i in alpGrid:\n",
    "    HG_ridge = linear_model.Ridge(alpha=i)\n",
    "    HG_lasso = linear_model.Lasso(alpha=i)\n",
    "    HG_ridge.fit(X_train, HG_train)\n",
    "    HG_lasso.fit(X_train, HG_train)\n",
    "    print('alpha parameter =', i)\n",
    "    print('LASSO, Ridge and linear regression')\n",
    "    print('Training MSE: ', MSE(HG_lasso.predict(X_train), HG_train), MSE(HG_ridge.predict(X_train), HG_train))\n",
    "    print('Test MSE: ', MSE(HG_ridge.predict(X_test), HG_test), MSE(HG_ridge.predict(X_test), HG_test))\n",
    "    tstLossLASSO.append(MSE(HG_lasso.predict(X_test), HG_test))\n",
    "    tstLossRidge.append(MSE(HG_ridge.predict(X_test), HG_test))\n",
    "HG_linear = linear_model.LinearRegression()\n",
    "HG_linear.fit(X_train, HG_train)\n",
    "print('Test MSE: ', MSE(HG_linear.predict(X_test), HG_test))      \n",
    "HG_lasso = linear_model.Lasso(alpha=alpGrid[np.argmin(tstLossLASSO)])\n",
    "HG_ridge = linear_model.Ridge(alpha=alpGrid[np.argmin(tstLossRidge)])\n",
    "HG_ridge.fit(X_train, HG_train)\n",
    "HG_lasso.fit(X_train, HG_train)"
   ]
  },
  {
   "cell_type": "code",
   "execution_count": 8,
   "id": "98e14e83",
   "metadata": {
    "execution": {
     "iopub.execute_input": "2023-03-02T14:48:04.479612Z",
     "iopub.status.busy": "2023-03-02T14:48:04.478857Z",
     "iopub.status.idle": "2023-03-02T14:48:04.782031Z",
     "shell.execute_reply": "2023-03-02T14:48:04.780906Z"
    },
    "papermill": {
     "duration": 0.356896,
     "end_time": "2023-03-02T14:48:04.784840",
     "exception": false,
     "start_time": "2023-03-02T14:48:04.427944",
     "status": "completed"
    },
    "tags": []
   },
   "outputs": [
    {
     "data": {
      "text/plain": [
       "[<matplotlib.lines.Line2D at 0x7f22b1b65ad0>,\n",
       " <matplotlib.lines.Line2D at 0x7f22a9accb10>]"
      ]
     },
     "execution_count": 8,
     "metadata": {},
     "output_type": "execute_result"
    },
    {
     "data": {
      "image/png": "[encoded data removed]",
      "text/plain": [
       "<Figure size 432x288 with 1 Axes>"
      ]
     },
     "metadata": {
      "needs_background": "light"
     },
     "output_type": "display_data"
    }
   ],
   "source": [
    "# %% Rating model based on trailing goal difference\n",
    "from scipy.optimize import curve_fit\n",
    "from scipy.special import expit\n",
    "GD_DF = X_train.copy()\n",
    "nBins = 17\n",
    "GD_DF['bin'] = pd.qcut(X_train['GD'], nBins, duplicates='drop')\n",
    "GD_DF['Hwin'] = 0;\n",
    "GD_DF.loc[GD_DF['FTHG']>GD_DF['FTAG'], 'Hwin'] = 1\n",
    "\n",
    "sigmoid = lambda x, a, b, c, d : a*expit(b*x-c)+d\n",
    "\n",
    "binList = sorted(GD_DF['bin'].unique())\n",
    "binVals = np.empty([nBins, 1])\n",
    "winPer = np.empty([nBins, 1])\n",
    "for i, b in enumerate(binList):\n",
    "    members = GD_DF.loc[GD_DF['bin']==b, 'Hwin']\n",
    "    binVals[i] = b.mid\n",
    "    winPer[i] = (members==1).sum()/len(members)\n",
    "    #print(b.mid, sum(GD_DF.loc[(GD_DF['bin']==b)&(GD_DF['Hwin']==1), 'Hwin']))\n",
    "    \n",
    "popt, pcov = curve_fit(sigmoid, binVals[:, 0], winPer[:, 0], [1, 1, 0, 0.1])\n",
    "homeSig = lambda x: sigmoid(x, popt[0],  popt[1],  popt[2],  popt[3])  \n",
    "plt.plot(binVals, winPer, '.', binVals, homeSig(binVals))\n",
    "\n",
    "GD_DF['Awin'] = 0;\n",
    "GD_DF.loc[GD_DF['FTHG']<GD_DF['FTAG'], 'Awin'] = 1\n",
    "\n",
    "binVals = np.empty([nBins, 1])\n",
    "winPer = np.empty([nBins, 1])\n",
    "for i, b in enumerate(binList):\n",
    "    members = GD_DF.loc[GD_DF['bin']==b, 'Awin']\n",
    "    binVals[i] = b.mid\n",
    "    winPer[i] = (members==1).sum()/len(members)\n",
    "    #print(b.mid, sum(GD_DF.loc[(GD_DF['bin']==b)&(GD_DF['Hwin']==1), 'Hwin']))\n",
    "    \n",
    "poptA, pcovA = curve_fit(sigmoid, binVals[:, 0], winPer[:, 0], [-1, 1, 0, 0.1])\n",
    "awaySig = lambda x: sigmoid(x, poptA[0],  poptA[1],  poptA[2],  poptA[3])  \n",
    "plt.plot(binVals, winPer, '.', binVals, awaySig(binVals))\n",
    "\n",
    "GD_DF['draw'] = 0;\n",
    "GD_DF.loc[GD_DF['FTHG']==GD_DF['FTAG'], 'draw'] = 1\n",
    "\n",
    "binVals = np.empty([nBins, 1])\n",
    "winPer = np.empty([nBins, 1])\n",
    "for i, b in enumerate(binList):\n",
    "    members = GD_DF.loc[GD_DF['bin']==b, 'draw']\n",
    "    binVals[i] = b.mid\n",
    "    winPer[i] = (members==1).sum()/len(members)\n",
    "    #print(b.mid, sum(GD_DF.loc[(GD_DF['bin']==b)&(GD_DF['Hwin']==1), 'Hwin']))\n",
    "\n",
    "draw_p = np.polyfit(binVals[:, 0], winPer[:, 0], 2)\n",
    "plt.plot(binVals[:, 0], winPer[:, 0], '.', binVals, np.polyval(draw_p, binVals))\n"
   ]
  },
  {
   "cell_type": "code",
   "execution_count": 9,
   "id": "d2128a3c",
   "metadata": {
    "execution": {
     "iopub.execute_input": "2023-03-02T14:48:04.804058Z",
     "iopub.status.busy": "2023-03-02T14:48:04.802913Z",
     "iopub.status.idle": "2023-03-02T14:48:26.932394Z",
     "shell.execute_reply": "2023-03-02T14:48:26.931141Z"
    },
    "papermill": {
     "duration": 22.142071,
     "end_time": "2023-03-02T14:48:26.934970",
     "exception": false,
     "start_time": "2023-03-02T14:48:04.792899",
     "status": "completed"
    },
    "tags": []
   },
   "outputs": [
    {
     "name": "stdout",
     "output_type": "stream",
     "text": [
      "LASSO regression\n",
      "Training MSE:  1.0680044325624387\n",
      "Test MSE:  1.1909938083457507\n",
      "Making predictions...\n",
      "Making predictions...\n",
      "0.47019867549668876\n",
      "0.4357615894039735\n"
     ]
    }
   ],
   "source": [
    "# %% away goals model\n",
    "AG = FullDF.iloc[24:, 3]\n",
    "AG_train = AG.head(Ntrain)\n",
    "AG_test = AG.tail(Ntest)\n",
    "# fit lasso model\n",
    "AG_clf = linear_model.Ridge(alpha=0.001)\n",
    "AG_clf.fit(X_train, AG_train)\n",
    "print('LASSO regression')\n",
    "print('Training MSE: ', MSE(AG_clf.predict(X_train), AG_train))\n",
    "print('Test MSE: ', MSE(AG_clf.predict(X_test), AG_test))\n",
    "\n",
    "# Create a function that approximates match outcome probabilities using a \n",
    "# bi-variate Poisson distribution\n",
    "import scipy as sp\n",
    "preds = pd.DataFrame(index=X_train.index)\n",
    "preds['xHG'] = HG_ridge.predict(X_train)\n",
    "preds['xAG'] = AG_clf.predict(X_train)\n",
    "preds[['Hp', 'Dp', 'Ap']] = book_probs[['Hp', 'Dp', 'Ap']]\n",
    "def matchPredict(series):\n",
    "    goalsHome = series['xHG']\n",
    "    goalsAway = series['xAG']\n",
    "    poissProb = np.empty([10, 10])\n",
    "    for i in range(10):\n",
    "        for j in range(10):\n",
    "            poissProb[i,j] = sp.stats.poisson.pmf(i, goalsHome)*sp.stats.poisson.pmf(j, goalsAway)\n",
    "    homeProb = np.sum(np.tril(poissProb, -1))\n",
    "    awayProb = np.sum(np.triu(poissProb, 1))\n",
    "    drawProb = np.sum(np.identity(10)*poissProb)\n",
    "    return homeProb, drawProb, awayProb\n",
    "print('Making predictions...')\n",
    "preds_prob = preds.apply(matchPredict, axis=1, result_type='expand')\n",
    "preds[['HomePred', 'DrawPred', 'AwayPred']] = preds_prob\n",
    "\n",
    "def matchPredict_fit(series):\n",
    "    rating = series['GD']\n",
    "    homeProb = homeSig(rating)\n",
    "    awayProb = awaySig(rating)\n",
    "    drawProb = np.polyval(draw_p, rating)\n",
    "    return homeProb, drawProb, awayProb\n",
    "print('Making predictions...')\n",
    "preds['GD'] = X_train['GD']\n",
    "preds_prob_fit = preds.apply(matchPredict_fit, axis=1, result_type='expand')\n",
    "preds[['GD_H_Pred', 'GD_D_Pred', 'GD_A_Pred']] = preds_prob_fit\n",
    "\n",
    "# %% calculate result from prediction\n",
    "preds['FTHG'] = HG_train\n",
    "preds['FTAG'] = AG_train\n",
    "\n",
    "# function for converting probabilities to predictions\n",
    "def probs_to_result(series, probs):\n",
    "    H = series[probs[0]]\n",
    "    D = series[probs[1]]\n",
    "    A = series[probs[2]]\n",
    "    if (H>D) and (H>A):\n",
    "        outcome = 'H'\n",
    "    elif (A>H) and (A>D):\n",
    "        outcome = 'A'\n",
    "    else:\n",
    "        outcome = 'D'\n",
    "    return outcome\n",
    "preds['rslt'] = 'D'\n",
    "preds.loc[preds['FTHG']>preds['FTAG'], 'rslt'] = 'H' \n",
    "preds.loc[preds['FTAG']>preds['FTHG'], 'rslt'] = 'A'\n",
    "\n",
    "preds['gd_mdl'] = preds.apply(probs_to_result, axis=1, args=[['GD_H_Pred', 'GD_D_Pred', 'GD_A_Pred']])\n",
    "preds['bookies'] = preds.apply(probs_to_result, axis=1, args=[['Hp', 'Dp', 'Ap']])\n",
    "preds['model'] = preds.apply(probs_to_result, axis=1, args=[['HomePred', 'DrawPred', 'AwayPred']])\n",
    "\n",
    "print(sum(preds['rslt']==preds['bookies'])/len(preds))\n",
    "print(sum(preds['rslt']==preds['model'])/len(preds))\n"
   ]
  },
  {
   "cell_type": "markdown",
   "id": "d08fb5c6",
   "metadata": {
    "papermill": {
     "duration": 0.007729,
     "end_time": "2023-03-02T14:48:26.951290",
     "exception": false,
     "start_time": "2023-03-02T14:48:26.943561",
     "status": "completed"
    },
    "tags": []
   },
   "source": [
    "Create a training data set"
   ]
  },
  {
   "cell_type": "code",
   "execution_count": 10,
   "id": "f9316f19",
   "metadata": {
    "execution": {
     "iopub.execute_input": "2023-03-02T14:48:26.971880Z",
     "iopub.status.busy": "2023-03-02T14:48:26.970828Z",
     "iopub.status.idle": "2023-03-02T14:48:36.437717Z",
     "shell.execute_reply": "2023-03-02T14:48:36.436540Z"
    },
    "papermill": {
     "duration": 9.480573,
     "end_time": "2023-03-02T14:48:36.440200",
     "exception": false,
     "start_time": "2023-03-02T14:48:26.959627",
     "status": "completed"
    },
    "tags": []
   },
   "outputs": [
    {
     "data": {
      "text/html": [
       "<div>\n",
       "<style scoped>\n",
       "    .dataframe tbody tr th:only-of-type {\n",
       "        vertical-align: middle;\n",
       "    }\n",
       "\n",
       "    .dataframe tbody tr th {\n",
       "        vertical-align: top;\n",
       "    }\n",
       "\n",
       "    .dataframe thead th {\n",
       "        text-align: right;\n",
       "    }\n",
       "</style>\n",
       "<table border=\"1\" class=\"dataframe\">\n",
       "  <thead>\n",
       "    <tr style=\"text-align: right;\">\n",
       "      <th></th>\n",
       "      <th>xHG</th>\n",
       "      <th>xAG</th>\n",
       "      <th>Hp</th>\n",
       "      <th>Dp</th>\n",
       "      <th>Ap</th>\n",
       "      <th>FTHG</th>\n",
       "      <th>FTAG</th>\n",
       "      <th>HomePred</th>\n",
       "      <th>DrawPred</th>\n",
       "      <th>AwayPred</th>\n",
       "      <th>GD</th>\n",
       "      <th>GD_H_Pred</th>\n",
       "      <th>GD_D_Pred</th>\n",
       "      <th>GD_A_Pred</th>\n",
       "      <th>rslt</th>\n",
       "      <th>gd_mdl</th>\n",
       "      <th>bookies</th>\n",
       "      <th>model</th>\n",
       "    </tr>\n",
       "  </thead>\n",
       "  <tbody>\n",
       "    <tr>\n",
       "      <th>2203</th>\n",
       "      <td>1.471248</td>\n",
       "      <td>1.158296</td>\n",
       "      <td>0.456621</td>\n",
       "      <td>0.301205</td>\n",
       "      <td>0.282486</td>\n",
       "      <td>1.0</td>\n",
       "      <td>4.0</td>\n",
       "      <td>0.443454</td>\n",
       "      <td>0.258398</td>\n",
       "      <td>0.298144</td>\n",
       "      <td>0.733333</td>\n",
       "      <td>0.836241</td>\n",
       "      <td>0.048121</td>\n",
       "      <td>0.119498</td>\n",
       "      <td>A</td>\n",
       "      <td>H</td>\n",
       "      <td>H</td>\n",
       "      <td>H</td>\n",
       "    </tr>\n",
       "    <tr>\n",
       "      <th>2204</th>\n",
       "      <td>1.328751</td>\n",
       "      <td>1.527803</td>\n",
       "      <td>0.258398</td>\n",
       "      <td>0.269542</td>\n",
       "      <td>0.510204</td>\n",
       "      <td>1.0</td>\n",
       "      <td>4.0</td>\n",
       "      <td>0.331064</td>\n",
       "      <td>0.248530</td>\n",
       "      <td>0.420400</td>\n",
       "      <td>0.066667</td>\n",
       "      <td>0.515333</td>\n",
       "      <td>0.059665</td>\n",
       "      <td>0.409549</td>\n",
       "      <td>A</td>\n",
       "      <td>H</td>\n",
       "      <td>A</td>\n",
       "      <td>A</td>\n",
       "    </tr>\n",
       "    <tr>\n",
       "      <th>2205</th>\n",
       "      <td>1.475647</td>\n",
       "      <td>1.107694</td>\n",
       "      <td>0.421941</td>\n",
       "      <td>0.308642</td>\n",
       "      <td>0.308642</td>\n",
       "      <td>1.0</td>\n",
       "      <td>2.0</td>\n",
       "      <td>0.456160</td>\n",
       "      <td>0.259572</td>\n",
       "      <td>0.284265</td>\n",
       "      <td>-0.933333</td>\n",
       "      <td>0.150632</td>\n",
       "      <td>0.075206</td>\n",
       "      <td>0.773969</td>\n",
       "      <td>A</td>\n",
       "      <td>A</td>\n",
       "      <td>H</td>\n",
       "      <td>H</td>\n",
       "    </tr>\n",
       "    <tr>\n",
       "      <th>2206</th>\n",
       "      <td>2.049605</td>\n",
       "      <td>1.332700</td>\n",
       "      <td>0.806452</td>\n",
       "      <td>0.160514</td>\n",
       "      <td>0.078493</td>\n",
       "      <td>2.0</td>\n",
       "      <td>2.0</td>\n",
       "      <td>0.540053</td>\n",
       "      <td>0.213019</td>\n",
       "      <td>0.246870</td>\n",
       "      <td>1.200000</td>\n",
       "      <td>0.919727</td>\n",
       "      <td>0.039476</td>\n",
       "      <td>0.056287</td>\n",
       "      <td>D</td>\n",
       "      <td>H</td>\n",
       "      <td>H</td>\n",
       "      <td>H</td>\n",
       "    </tr>\n",
       "    <tr>\n",
       "      <th>2207</th>\n",
       "      <td>1.457164</td>\n",
       "      <td>1.308763</td>\n",
       "      <td>0.389105</td>\n",
       "      <td>0.268817</td>\n",
       "      <td>0.383142</td>\n",
       "      <td>1.0</td>\n",
       "      <td>1.0</td>\n",
       "      <td>0.406903</td>\n",
       "      <td>0.253798</td>\n",
       "      <td>0.339295</td>\n",
       "      <td>0.466667</td>\n",
       "      <td>0.736707</td>\n",
       "      <td>0.052852</td>\n",
       "      <td>0.203050</td>\n",
       "      <td>D</td>\n",
       "      <td>H</td>\n",
       "      <td>H</td>\n",
       "      <td>H</td>\n",
       "    </tr>\n",
       "  </tbody>\n",
       "</table>\n",
       "</div>"
      ],
      "text/plain": [
       "           xHG       xAG        Hp        Dp        Ap  FTHG  FTAG  HomePred  \\\n",
       "2203  1.471248  1.158296  0.456621  0.301205  0.282486   1.0   4.0  0.443454   \n",
       "2204  1.328751  1.527803  0.258398  0.269542  0.510204   1.0   4.0  0.331064   \n",
       "2205  1.475647  1.107694  0.421941  0.308642  0.308642   1.0   2.0  0.456160   \n",
       "2206  2.049605  1.332700  0.806452  0.160514  0.078493   2.0   2.0  0.540053   \n",
       "2207  1.457164  1.308763  0.389105  0.268817  0.383142   1.0   1.0  0.406903   \n",
       "\n",
       "      DrawPred  AwayPred        GD  GD_H_Pred  GD_D_Pred  GD_A_Pred rslt  \\\n",
       "2203  0.258398  0.298144  0.733333   0.836241   0.048121   0.119498    A   \n",
       "2204  0.248530  0.420400  0.066667   0.515333   0.059665   0.409549    A   \n",
       "2205  0.259572  0.284265 -0.933333   0.150632   0.075206   0.773969    A   \n",
       "2206  0.213019  0.246870  1.200000   0.919727   0.039476   0.056287    D   \n",
       "2207  0.253798  0.339295  0.466667   0.736707   0.052852   0.203050    D   \n",
       "\n",
       "     gd_mdl bookies model  \n",
       "2203      H       H     H  \n",
       "2204      H       A     A  \n",
       "2205      A       H     H  \n",
       "2206      H       H     H  \n",
       "2207      H       H     H  "
      ]
     },
     "execution_count": 10,
     "metadata": {},
     "output_type": "execute_result"
    }
   ],
   "source": [
    "# need to pipeline this process so that test data can easily be transformed.\n",
    "\n",
    "preds_test = pd.DataFrame(index=X_test.index)\n",
    "preds_test['xHG'] = HG_ridge.predict(X_test)\n",
    "preds_test['xAG'] = AG_clf.predict(X_test)\n",
    "preds_test[['Hp', 'Dp', 'Ap']] = book_probs.loc[-Ntest:, ['Hp', 'Dp', 'Ap']]\n",
    "preds_test['FTHG'] = HG_test\n",
    "preds_test['FTAG'] = AG_test\n",
    "preds_prob = preds_test.apply(matchPredict, axis=1, result_type='expand')\n",
    "preds_test[['HomePred', 'DrawPred', 'AwayPred']] = preds_prob\n",
    "preds_test['GD'] = X_test['GD']\n",
    "preds_prob_fit = preds_test.apply(matchPredict_fit, axis=1, result_type='expand')\n",
    "preds_test[['GD_H_Pred', 'GD_D_Pred', 'GD_A_Pred']] = preds_prob_fit\n",
    "\n",
    "preds_test['rslt'] = 'D'\n",
    "preds_test.loc[preds_test['FTHG']>preds_test['FTAG'], 'rslt'] = 'H' \n",
    "preds_test.loc[preds_test['FTAG']>preds_test['FTHG'], 'rslt'] = 'A'\n",
    "\n",
    "preds_test['gd_mdl'] = preds_test.apply(probs_to_result, axis=1, args=[['GD_H_Pred', 'GD_D_Pred', 'GD_A_Pred']])\n",
    "preds_test['bookies'] = preds_test.apply(probs_to_result, axis=1, args=[['Hp', 'Dp', 'Ap']])\n",
    "preds_test['model'] = preds_test.apply(probs_to_result, axis=1, args=[['HomePred', 'DrawPred', 'AwayPred']])\n",
    "\n",
    "preds_test.tail()\n"
   ]
  },
  {
   "cell_type": "code",
   "execution_count": 11,
   "id": "326ba2e4",
   "metadata": {
    "execution": {
     "iopub.execute_input": "2023-03-02T14:48:36.459068Z",
     "iopub.status.busy": "2023-03-02T14:48:36.458353Z",
     "iopub.status.idle": "2023-03-02T14:48:44.519077Z",
     "shell.execute_reply": "2023-03-02T14:48:44.517674Z"
    },
    "papermill": {
     "duration": 8.073024,
     "end_time": "2023-03-02T14:48:44.521549",
     "exception": false,
     "start_time": "2023-03-02T14:48:36.448525",
     "status": "completed"
    },
    "tags": []
   },
   "outputs": [
    {
     "name": "stdout",
     "output_type": "stream",
     "text": [
      "Combined model 1.3199381761978362\n",
      "Bookies 0.4667697063369397\n",
      "Combined model 0.46831530139103555\n",
      "Bookies 0.4667697063369397\n"
     ]
    },
    {
     "data": {
      "image/png": "[encoded data removed]",
      "text/plain": [
       "<Figure size 432x288 with 1 Axes>"
      ]
     },
     "metadata": {
      "needs_background": "light"
     },
     "output_type": "display_data"
    }
   ],
   "source": [
    "from sklearn.ensemble import GradientBoostingClassifier\n",
    "from sklearn.metrics import mean_squared_error as MSE\n",
    "from sklearn.metrics import accuracy_score as score\n",
    "\n",
    "y_pred = preds['rslt'].copy()\n",
    "y_pred[y_pred=='H'] = 1\n",
    "y_pred[y_pred=='D'] = 0\n",
    "y_pred[y_pred=='A'] = -1\n",
    "y_pred = y_pred.astype('int')\n",
    "X_combined = preds.drop(['xHG', 'xAG', 'FTHG', 'FTAG', 'gd_mdl', 'rslt', 'bookies','model'], axis=1)\n",
    "#linReg 0.428\n",
    "#lasso 0.427\n",
    "#ridge 0.429\n",
    "\n",
    "# create results vector\n",
    "y_preds_act = preds_test['rslt'].copy()\n",
    "y_preds_act[y_preds_act=='H'] = 1\n",
    "y_preds_act[y_preds_act=='D'] = 0\n",
    "y_preds_act[y_preds_act=='A'] = -1\n",
    "y_preds_act = y_preds_act.astype('int')\n",
    "\n",
    "# create data for prediction\n",
    "X_comb_test = preds_test.drop(['xHG', 'xAG', 'FTHG', 'FTAG', 'gd_mdl', 'rslt', 'bookies','model'], axis=1)\n",
    "#y_comb_test = combined_model.predict(X_comb_test)\n",
    "\n",
    "# create bookie results vector\n",
    "book_test = preds_test['bookies'].copy()\n",
    "book_test[book_test=='H'] = 1\n",
    "book_test[book_test=='D'] = 0\n",
    "book_test[book_test=='A'] = -1\n",
    "book_test = book_test.astype('int')\n",
    "\n",
    "testLoss = []\n",
    "for n in range(1, 50):\n",
    "    combined_model = GradientBoostingClassifier(n_estimators=n, learning_rate=0.05,\n",
    "    max_depth=1).fit(X_combined, y_pred)\n",
    "    y_comb_test = combined_model.predict(X_comb_test)\n",
    "    testLoss.append(score(y_preds_act, y_comb_test))\n",
    "    \n",
    "plt.subplot()\n",
    "#plt.plot(range(1, 50), combined_model.train_score_, range(1, 50),\n",
    "plt.plot(testLoss)\n",
    "\n",
    "print('Combined model', MSE(y_preds_act, y_comb_test))\n",
    "print('Bookies', score(y_preds_act, book_test))\n",
    "\n",
    "print('Combined model', sum(y_preds_act==y_comb_test)/len(y_preds_act))\n",
    "print('Bookies', sum(book_test==y_preds_act)/len(y_preds_act))"
   ]
  },
  {
   "cell_type": "code",
   "execution_count": 12,
   "id": "eab555b0",
   "metadata": {
    "execution": {
     "iopub.execute_input": "2023-03-02T14:48:44.541952Z",
     "iopub.status.busy": "2023-03-02T14:48:44.541547Z",
     "iopub.status.idle": "2023-03-02T14:48:44.772798Z",
     "shell.execute_reply": "2023-03-02T14:48:44.771977Z"
    },
    "papermill": {
     "duration": 0.244037,
     "end_time": "2023-03-02T14:48:44.774804",
     "exception": false,
     "start_time": "2023-03-02T14:48:44.530767",
     "status": "completed"
    },
    "tags": []
   },
   "outputs": [
    {
     "data": {
      "text/html": [
       "<div>\n",
       "<style scoped>\n",
       "    .dataframe tbody tr th:only-of-type {\n",
       "        vertical-align: middle;\n",
       "    }\n",
       "\n",
       "    .dataframe tbody tr th {\n",
       "        vertical-align: top;\n",
       "    }\n",
       "\n",
       "    .dataframe thead th {\n",
       "        text-align: right;\n",
       "    }\n",
       "</style>\n",
       "<table border=\"1\" class=\"dataframe\">\n",
       "  <thead>\n",
       "    <tr style=\"text-align: right;\">\n",
       "      <th></th>\n",
       "      <th>xHG</th>\n",
       "      <th>xAG</th>\n",
       "      <th>Hp</th>\n",
       "      <th>Dp</th>\n",
       "      <th>Ap</th>\n",
       "      <th>FTHG</th>\n",
       "      <th>FTAG</th>\n",
       "      <th>HomePred</th>\n",
       "      <th>DrawPred</th>\n",
       "      <th>AwayPred</th>\n",
       "      <th>...</th>\n",
       "      <th>GD_D_Pred</th>\n",
       "      <th>GD_A_Pred</th>\n",
       "      <th>rslt</th>\n",
       "      <th>gd_mdl</th>\n",
       "      <th>bookies</th>\n",
       "      <th>model</th>\n",
       "      <th>combA</th>\n",
       "      <th>combD</th>\n",
       "      <th>combH</th>\n",
       "      <th>comb_mod</th>\n",
       "    </tr>\n",
       "  </thead>\n",
       "  <tbody>\n",
       "    <tr>\n",
       "      <th>1552</th>\n",
       "      <td>1.411885</td>\n",
       "      <td>0.982334</td>\n",
       "      <td>0.581395</td>\n",
       "      <td>0.261780</td>\n",
       "      <td>0.183824</td>\n",
       "      <td>NaN</td>\n",
       "      <td>NaN</td>\n",
       "      <td>0.468912</td>\n",
       "      <td>0.269055</td>\n",
       "      <td>0.262030</td>\n",
       "      <td>...</td>\n",
       "      <td>0.041993</td>\n",
       "      <td>0.067173</td>\n",
       "      <td>D</td>\n",
       "      <td>H</td>\n",
       "      <td>H</td>\n",
       "      <td>H</td>\n",
       "      <td>0.166999</td>\n",
       "      <td>0.240127</td>\n",
       "      <td>0.592874</td>\n",
       "      <td>H</td>\n",
       "    </tr>\n",
       "    <tr>\n",
       "      <th>1553</th>\n",
       "      <td>1.629814</td>\n",
       "      <td>0.999741</td>\n",
       "      <td>0.632911</td>\n",
       "      <td>0.215054</td>\n",
       "      <td>0.176678</td>\n",
       "      <td>NaN</td>\n",
       "      <td>NaN</td>\n",
       "      <td>0.520902</td>\n",
       "      <td>0.247077</td>\n",
       "      <td>0.232013</td>\n",
       "      <td>...</td>\n",
       "      <td>0.026322</td>\n",
       "      <td>0.036510</td>\n",
       "      <td>D</td>\n",
       "      <td>H</td>\n",
       "      <td>H</td>\n",
       "      <td>H</td>\n",
       "      <td>0.151394</td>\n",
       "      <td>0.213878</td>\n",
       "      <td>0.634728</td>\n",
       "      <td>H</td>\n",
       "    </tr>\n",
       "    <tr>\n",
       "      <th>1554</th>\n",
       "      <td>1.378749</td>\n",
       "      <td>1.281018</td>\n",
       "      <td>0.497512</td>\n",
       "      <td>0.279330</td>\n",
       "      <td>0.248139</td>\n",
       "      <td>NaN</td>\n",
       "      <td>NaN</td>\n",
       "      <td>0.392621</td>\n",
       "      <td>0.260077</td>\n",
       "      <td>0.347300</td>\n",
       "      <td>...</td>\n",
       "      <td>0.054011</td>\n",
       "      <td>0.231327</td>\n",
       "      <td>D</td>\n",
       "      <td>H</td>\n",
       "      <td>H</td>\n",
       "      <td>H</td>\n",
       "      <td>0.274474</td>\n",
       "      <td>0.340026</td>\n",
       "      <td>0.385500</td>\n",
       "      <td>H</td>\n",
       "    </tr>\n",
       "    <tr>\n",
       "      <th>1555</th>\n",
       "      <td>1.621716</td>\n",
       "      <td>1.098775</td>\n",
       "      <td>0.546448</td>\n",
       "      <td>0.281690</td>\n",
       "      <td>0.198020</td>\n",
       "      <td>NaN</td>\n",
       "      <td>NaN</td>\n",
       "      <td>0.495238</td>\n",
       "      <td>0.247019</td>\n",
       "      <td>0.257735</td>\n",
       "      <td>...</td>\n",
       "      <td>0.058553</td>\n",
       "      <td>0.370584</td>\n",
       "      <td>D</td>\n",
       "      <td>H</td>\n",
       "      <td>H</td>\n",
       "      <td>H</td>\n",
       "      <td>0.179090</td>\n",
       "      <td>0.264594</td>\n",
       "      <td>0.556316</td>\n",
       "      <td>H</td>\n",
       "    </tr>\n",
       "    <tr>\n",
       "      <th>1556</th>\n",
       "      <td>1.282805</td>\n",
       "      <td>0.968835</td>\n",
       "      <td>0.534759</td>\n",
       "      <td>0.280112</td>\n",
       "      <td>0.209205</td>\n",
       "      <td>NaN</td>\n",
       "      <td>NaN</td>\n",
       "      <td>0.436546</td>\n",
       "      <td>0.282708</td>\n",
       "      <td>0.280745</td>\n",
       "      <td>...</td>\n",
       "      <td>0.045698</td>\n",
       "      <td>0.093107</td>\n",
       "      <td>D</td>\n",
       "      <td>H</td>\n",
       "      <td>H</td>\n",
       "      <td>H</td>\n",
       "      <td>0.184987</td>\n",
       "      <td>0.273307</td>\n",
       "      <td>0.541706</td>\n",
       "      <td>H</td>\n",
       "    </tr>\n",
       "  </tbody>\n",
       "</table>\n",
       "<p>5 rows × 22 columns</p>\n",
       "</div>"
      ],
      "text/plain": [
       "           xHG       xAG        Hp        Dp        Ap  FTHG  FTAG  HomePred  \\\n",
       "1552  1.411885  0.982334  0.581395  0.261780  0.183824   NaN   NaN  0.468912   \n",
       "1553  1.629814  0.999741  0.632911  0.215054  0.176678   NaN   NaN  0.520902   \n",
       "1554  1.378749  1.281018  0.497512  0.279330  0.248139   NaN   NaN  0.392621   \n",
       "1555  1.621716  1.098775  0.546448  0.281690  0.198020   NaN   NaN  0.495238   \n",
       "1556  1.282805  0.968835  0.534759  0.280112  0.209205   NaN   NaN  0.436546   \n",
       "\n",
       "      DrawPred  AwayPred  ...  GD_D_Pred  GD_A_Pred  rslt  gd_mdl bookies  \\\n",
       "1552  0.269055  0.262030  ...   0.041993   0.067173     D       H       H   \n",
       "1553  0.247077  0.232013  ...   0.026322   0.036510     D       H       H   \n",
       "1554  0.260077  0.347300  ...   0.054011   0.231327     D       H       H   \n",
       "1555  0.247019  0.257735  ...   0.058553   0.370584     D       H       H   \n",
       "1556  0.282708  0.280745  ...   0.045698   0.093107     D       H       H   \n",
       "\n",
       "     model     combA     combD     combH  comb_mod  \n",
       "1552     H  0.166999  0.240127  0.592874         H  \n",
       "1553     H  0.151394  0.213878  0.634728         H  \n",
       "1554     H  0.274474  0.340026  0.385500         H  \n",
       "1555     H  0.179090  0.264594  0.556316         H  \n",
       "1556     H  0.184987  0.273307  0.541706         H  \n",
       "\n",
       "[5 rows x 22 columns]"
      ]
     },
     "execution_count": 12,
     "metadata": {},
     "output_type": "execute_result"
    },
    {
     "data": {
      "image/png": "[encoded data removed]",
      "text/plain": [
       "<Figure size 432x288 with 1 Axes>"
      ]
     },
     "metadata": {
      "needs_background": "light"
     },
     "output_type": "display_data"
    }
   ],
   "source": [
    "y_comb_prob = combined_model.predict_proba(X_comb_test)\n",
    "fig, ax1 = plt.subplots(1, 1)\n",
    "plt.plot(preds_test['Hp'], y_comb_prob[:, 2], '.')\n",
    "ax1.plot([0, 1], [0, 1])\n",
    "preds_test[['combA', 'combD', 'combH']] = y_comb_prob\n",
    "\n",
    "y_comb_rslt = pd.DataFrame(index=preds_test.index)\n",
    "y_comb_rslt['output'] = y_comb_test\n",
    "y_comb_rslt['result'] = \"D\"\n",
    "y_comb_rslt.loc[y_comb_rslt['output']==1, 'result'] = 'H'\n",
    "y_comb_rslt.loc[y_comb_rslt['output']==-1, 'result'] = 'A'\n",
    "preds_test['comb_mod'] = y_comb_rslt['result']\n",
    "preds_test.head()"
   ]
  },
  {
   "cell_type": "code",
   "execution_count": 13,
   "id": "7cfffde0",
   "metadata": {
    "execution": {
     "iopub.execute_input": "2023-03-02T14:48:44.794836Z",
     "iopub.status.busy": "2023-03-02T14:48:44.794277Z",
     "iopub.status.idle": "2023-03-02T14:48:45.316022Z",
     "shell.execute_reply": "2023-03-02T14:48:45.314964Z"
    },
    "papermill": {
     "duration": 0.534325,
     "end_time": "2023-03-02T14:48:45.318252",
     "exception": false,
     "start_time": "2023-03-02T14:48:44.783927",
     "status": "completed"
    },
    "tags": []
   },
   "outputs": [
    {
     "name": "stdout",
     "output_type": "stream",
     "text": [
      "1232\n"
     ]
    },
    {
     "data": {
      "text/plain": [
       "<AxesSubplot:xlabel='Ap'>"
      ]
     },
     "execution_count": 13,
     "metadata": {},
     "output_type": "execute_result"
    },
    {
     "data": {
      "image/png": "[encoded data removed]",
      "text/plain": [
       "<Figure size 432x288 with 1 Axes>"
      ]
     },
     "metadata": {
      "needs_background": "light"
     },
     "output_type": "display_data"
    },
    {
     "data": {
      "image/png": "[encoded data removed]",
      "text/plain": [
       "<Figure size 432x288 with 1 Axes>"
      ]
     },
     "metadata": {
      "needs_background": "light"
     },
     "output_type": "display_data"
    }
   ],
   "source": [
    "# filter to model true and bookies not true\n",
    "modTrue = preds_test.loc[(preds_test['rslt']==preds_test['model'])&(preds_test['rslt']!=preds_test['bookies']), :]\n",
    "print(modTrue.size)\n",
    "ax1 = preds_test.plot(x='Hp', y='HomePred', style='.', ylabel='model prob.')\n",
    "modTrue.plot(x='Hp', y='HomePred', style='.', ax=ax1)\n",
    "ax2 = preds_test.plot(x='Ap', y='AwayPred', style='.')\n",
    "modTrue.plot(x='Ap', y='AwayPred', style='.', ax=ax2)"
   ]
  },
  {
   "cell_type": "code",
   "execution_count": 14,
   "id": "60ed9520",
   "metadata": {
    "execution": {
     "iopub.execute_input": "2023-03-02T14:48:45.340897Z",
     "iopub.status.busy": "2023-03-02T14:48:45.340500Z",
     "iopub.status.idle": "2023-03-02T14:48:45.840014Z",
     "shell.execute_reply": "2023-03-02T14:48:45.839217Z"
    },
    "papermill": {
     "duration": 0.513393,
     "end_time": "2023-03-02T14:48:45.842238",
     "exception": false,
     "start_time": "2023-03-02T14:48:45.328845",
     "status": "completed"
    },
    "tags": []
   },
   "outputs": [
    {
     "data": {
      "text/plain": [
       "<AxesSubplot:xlabel='Ap'>"
      ]
     },
     "execution_count": 14,
     "metadata": {},
     "output_type": "execute_result"
    },
    {
     "data": {
      "image/png": "[encoded data removed]",
      "text/plain": [
       "<Figure size 432x288 with 1 Axes>"
      ]
     },
     "metadata": {
      "needs_background": "light"
     },
     "output_type": "display_data"
    },
    {
     "data": {
      "image/png": "[encoded data removed]",
      "text/plain": [
       "<Figure size 432x288 with 1 Axes>"
      ]
     },
     "metadata": {
      "needs_background": "light"
     },
     "output_type": "display_data"
    }
   ],
   "source": [
    "# filter to model true and bookies not true\n",
    "modTrue = preds.loc[(preds['rslt']==preds['gd_mdl'])&(preds['rslt']!=preds['bookies']), :]\n",
    "ax1 = preds.plot(x='Hp', y='GD_H_Pred', style='.', ylabel='model prob.')\n",
    "modTrue.plot(x='Hp', y='GD_H_Pred', style='.', ax=ax1)\n",
    "ax2 = preds.plot(x='Ap', y='GD_A_Pred', style='.')\n",
    "modTrue.plot(x='Ap', y='GD_A_Pred', style='.', ax=ax2)"
   ]
  },
  {
   "cell_type": "code",
   "execution_count": 15,
   "id": "df96311c",
   "metadata": {
    "execution": {
     "iopub.execute_input": "2023-03-02T14:48:45.867926Z",
     "iopub.status.busy": "2023-03-02T14:48:45.866707Z",
     "iopub.status.idle": "2023-03-02T14:48:46.121470Z",
     "shell.execute_reply": "2023-03-02T14:48:46.120458Z"
    },
    "papermill": {
     "duration": 0.269888,
     "end_time": "2023-03-02T14:48:46.123785",
     "exception": false,
     "start_time": "2023-03-02T14:48:45.853897",
     "status": "completed"
    },
    "tags": []
   },
   "outputs": [
    {
     "data": {
      "text/plain": [
       "<matplotlib.legend.Legend at 0x7f22a96c9790>"
      ]
     },
     "execution_count": 15,
     "metadata": {},
     "output_type": "execute_result"
    },
    {
     "data": {
      "image/png": "[encoded data removed]",
      "text/plain": [
       "<Figure size 432x288 with 1 Axes>"
      ]
     },
     "metadata": {
      "needs_background": "light"
     },
     "output_type": "display_data"
    }
   ],
   "source": [
    "# model accuracy vs. bin\n",
    "binPlot = preds_test.copy()\n",
    "\n",
    "def binPlotData (data, colLabel, nBins):\n",
    "    \n",
    "    data['bin'] = pd.qcut(data[colLabel], nBins, duplicates='drop')\n",
    "    data['H_pred_correct'] = 0;\n",
    "    data.loc[data['rslt']==data['model'], 'H_pred_correct'] = 1\n",
    "\n",
    "    binList = sorted(data['bin'].unique())\n",
    "    binVals = np.empty([nBins, 1])\n",
    "    winPer = np.empty([nBins, 1])\n",
    "    for i, b in enumerate(binList):\n",
    "        members = data.loc[data['bin']==b, 'H_pred_correct']\n",
    "        binVals[i] = b.mid\n",
    "        winPer[i] = (members==1).sum()/len(members)\n",
    "        #print(b.mid, sum(GD_DF.loc[(GD_DF['bin']==b)&(GD_DF['Hwin']==1), 'Hwin']))\n",
    "    return binVals, winPer\n",
    "\n",
    "#binPlotModelVals, binPlotModelPer = binPlotData(binPlot, 'GD_H_Pred', 9)\n",
    "binPlotModelVals, binPlotModelPer = binPlotData(binPlot, 'HomePred', 9)\n",
    "binPlotBookiesVals, binPlotBookiesPer = binPlotData(binPlot, 'Hp', 9)    \n",
    "    \n",
    "fig, binnedAx = plt.subplots()\n",
    "binnedAx.plot(binPlotBookiesVals, binPlotBookiesPer, '.')\n",
    "binnedAx.plot(binPlotModelVals, binPlotModelPer, '.')\n",
    "binnedAx.legend(['Bookies', 'Model'])"
   ]
  },
  {
   "cell_type": "code",
   "execution_count": 16,
   "id": "a8ca33fa",
   "metadata": {
    "execution": {
     "iopub.execute_input": "2023-03-02T14:48:46.149580Z",
     "iopub.status.busy": "2023-03-02T14:48:46.148898Z",
     "iopub.status.idle": "2023-03-02T14:48:46.891171Z",
     "shell.execute_reply": "2023-03-02T14:48:46.890235Z"
    },
    "papermill": {
     "duration": 0.758217,
     "end_time": "2023-03-02T14:48:46.893728",
     "exception": false,
     "start_time": "2023-03-02T14:48:46.135511",
     "status": "completed"
    },
    "tags": []
   },
   "outputs": [
    {
     "data": {
      "text/plain": [
       "<AxesSubplot:xlabel='Ap'>"
      ]
     },
     "execution_count": 16,
     "metadata": {},
     "output_type": "execute_result"
    },
    {
     "data": {
      "image/png": "[encoded data removed]",
      "text/plain": [
       "<Figure size 432x288 with 1 Axes>"
      ]
     },
     "metadata": {
      "needs_background": "light"
     },
     "output_type": "display_data"
    },
    {
     "data": {
      "image/png": "[encoded data removed]",
      "text/plain": [
       "<Figure size 432x288 with 1 Axes>"
      ]
     },
     "metadata": {
      "needs_background": "light"
     },
     "output_type": "display_data"
    },
    {
     "data": {
      "image/png": "[encoded data removed]",
      "text/plain": [
       "<Figure size 432x288 with 1 Axes>"
      ]
     },
     "metadata": {
      "needs_background": "light"
     },
     "output_type": "display_data"
    }
   ],
   "source": [
    "modFalse = preds.loc[(preds['rslt']!=preds['model'])&(preds['rslt']==preds['bookies']), :]\n",
    "preds.plot(x='Hp', y='GD_H_Pred', style='.')\n",
    "modFalse.plot(x='Hp', y='GD_H_Pred', style='.')\n",
    "modFalse.plot(x='Ap', y='GD_A_Pred', style='.')"
   ]
  },
  {
   "cell_type": "code",
   "execution_count": 17,
   "id": "7eac3f97",
   "metadata": {
    "execution": {
     "iopub.execute_input": "2023-03-02T14:48:46.921376Z",
     "iopub.status.busy": "2023-03-02T14:48:46.920967Z",
     "iopub.status.idle": "2023-03-02T14:48:47.351659Z",
     "shell.execute_reply": "2023-03-02T14:48:47.350624Z"
    },
    "papermill": {
     "duration": 0.446965,
     "end_time": "2023-03-02T14:48:47.353989",
     "exception": false,
     "start_time": "2023-03-02T14:48:46.907024",
     "status": "completed"
    },
    "tags": []
   },
   "outputs": [
    {
     "data": {
      "text/plain": [
       "<AxesSubplot:xlabel='HomePred'>"
      ]
     },
     "execution_count": 17,
     "metadata": {},
     "output_type": "execute_result"
    },
    {
     "data": {
      "image/png": "[encoded data removed]",
      "text/plain": [
       "<Figure size 432x288 with 1 Axes>"
      ]
     },
     "metadata": {
      "needs_background": "light"
     },
     "output_type": "display_data"
    },
    {
     "data": {
      "image/png": "[encoded data removed]",
      "text/plain": [
       "<Figure size 432x288 with 1 Axes>"
      ]
     },
     "metadata": {
      "needs_background": "light"
     },
     "output_type": "display_data"
    }
   ],
   "source": [
    "#preds.plot(x='HomePred', y='AwayPred', style='.')\n",
    "\n",
    "preds.plot(x='Hp', y='GD_H_Pred', style='.')\n",
    "preds.plot(x='HomePred', y='GD_H_Pred', style='.')\n",
    "#preds['Hp'].hist()\n",
    "#preds['GD_H_Pred'].hist()"
   ]
  },
  {
   "cell_type": "code",
   "execution_count": 18,
   "id": "37f0efae",
   "metadata": {
    "execution": {
     "iopub.execute_input": "2023-03-02T14:48:47.384623Z",
     "iopub.status.busy": "2023-03-02T14:48:47.383738Z",
     "iopub.status.idle": "2023-03-02T14:48:47.634220Z",
     "shell.execute_reply": "2023-03-02T14:48:47.633103Z"
    },
    "papermill": {
     "duration": 0.268123,
     "end_time": "2023-03-02T14:48:47.636513",
     "exception": false,
     "start_time": "2023-03-02T14:48:47.368390",
     "status": "completed"
    },
    "tags": []
   },
   "outputs": [
    {
     "data": {
      "text/plain": [
       "<matplotlib.legend.Legend at 0x7f22b1e4b1d0>"
      ]
     },
     "execution_count": 18,
     "metadata": {},
     "output_type": "execute_result"
    },
    {
     "data": {
      "image/png": "[encoded data removed]",
      "text/plain": [
       "<Figure size 432x288 with 1 Axes>"
      ]
     },
     "metadata": {
      "needs_background": "light"
     },
     "output_type": "display_data"
    }
   ],
   "source": [
    "binPlotModelVals, binPlotModelPer = binPlotData(binPlot, 'GD_A_Pred', 9)\n",
    "binPlotBookiesVals, binPlotBookiesPer = binPlotData(binPlot, 'Ap', 9)    \n",
    "    \n",
    "fig, binnedAx = plt.subplots()\n",
    "binnedAx.plot(binPlotModelVals, binPlotModelPer, '.')\n",
    "binnedAx.plot(binPlotBookiesVals, binPlotBookiesPer, '.')\n",
    "binnedAx.legend(['Model', 'Bookies'])"
   ]
  },
  {
   "cell_type": "code",
   "execution_count": 19,
   "id": "a74a45d3",
   "metadata": {
    "execution": {
     "iopub.execute_input": "2023-03-02T14:48:47.667489Z",
     "iopub.status.busy": "2023-03-02T14:48:47.666022Z",
     "iopub.status.idle": "2023-03-02T14:48:48.367295Z",
     "shell.execute_reply": "2023-03-02T14:48:48.366370Z"
    },
    "papermill": {
     "duration": 0.719169,
     "end_time": "2023-03-02T14:48:48.369757",
     "exception": false,
     "start_time": "2023-03-02T14:48:47.650588",
     "status": "completed"
    },
    "tags": []
   },
   "outputs": [
    {
     "data": {
      "text/plain": [
       "<BarContainer object of 29 artists>"
      ]
     },
     "execution_count": 19,
     "metadata": {},
     "output_type": "execute_result"
    },
    {
     "data": {
      "image/png": "[encoded data removed]",
      "text/plain": [
       "<Figure size 1080x216 with 1 Axes>"
      ]
     },
     "metadata": {
      "needs_background": "light"
     },
     "output_type": "display_data"
    },
    {
     "data": {
      "image/png": "[encoded data removed]",
      "text/plain": [
       "<Figure size 1080x216 with 1 Axes>"
      ]
     },
     "metadata": {
      "needs_background": "light"
     },
     "output_type": "display_data"
    }
   ],
   "source": [
    "#print(X_train.columns, HG_ridge.coef_)\n",
    "plt.subplots(figsize=(15, 3))\n",
    "plt.bar(X_train.columns, HG_ridge.coef_)\n",
    "plt.subplots(figsize=(15, 3))\n",
    "plt.bar(X_train.columns, AG_clf.coef_)"
   ]
  }
 ],
 "metadata": {
  "kernelspec": {
   "display_name": "Python 3",
   "language": "python",
   "name": "python3"
  },
  "language_info": {
   "codemirror_mode": {
    "name": "ipython",
    "version": 3
   },
   "file_extension": ".py",
   "mimetype": "text/x-python",
   "name": "python",
   "nbconvert_exporter": "python",
   "pygments_lexer": "ipython3",
   "version": "3.7.12"
  },
  "papermill": {
   "default_parameters": {},
   "duration": 58.052775,
   "end_time": "2023-03-02T14:48:49.206491",
   "environment_variables": {},
   "exception": null,
   "input_path": "__notebook__.ipynb",
   "output_path": "__notebook__.ipynb",
   "parameters": {},
   "start_time": "2023-03-02T14:47:51.153716",
   "version": "2.3.4"
  }
 },
 "nbformat": 4,
 "nbformat_minor": 5
}
